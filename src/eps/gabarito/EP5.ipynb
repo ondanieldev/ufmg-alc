{
 "cells": [
  {
   "cell_type": "markdown",
   "metadata": {},
   "source": [
    "# Exercício de Programação 5: Regressão\n",
    "\n",
    "<font color=\"red\">**Prazo de submissão: 23:55 do dia 16/03/2021** </font>\n",
    "\n",
    "2020.2 Álgebra Linear Computacional - DCC - UFMG\n",
    "\n",
    "Erickson - Fabricio\n",
    "\n",
    "Instruções:\n",
    "* Antes de submeter suas soluções, certifique-se de que tudo roda como esperado. Primeiro, **reinicie o kernel** no menu, selecione Kernel$\\rightarrow$Restart e então execute **todas as células** (no menu, Cell$\\rightarrow$Run All)\n",
    "* Apenas o arquivo .ipynb deve ser submetido. Ele não deve ser compactado.\n",
    "* Não deixe de preencher seu nome e número de matrícula na célula a seguir\n",
    "\n",
    "**Nome do aluno:** Daniel Oliveira Nascimento\n",
    "\n",
    "**Matricula:** 2020054293"
   ]
  },
  {
   "cell_type": "markdown",
   "metadata": {},
   "source": [
    "## Carregando os dados\n",
    "\n",
    "Iremos carregar os dados usando a biblioteca ```pandas```. Não se preocupe se você não conhece a biblioteca, pois o nosso objetivo é apenas extrair a matriz de dados $X$. Segue uma descrição do dataset, retirada [daqui](http://statweb.stanford.edu/~owen/courses/202/Cereals.txt).\n",
    "\n",
    "* Datafile Name: Cereals\n",
    "* Datafile Subjects: Food , Health\n",
    "* Story Names: Healthy Breakfast\n",
    "* Reference: Data available at many grocery stores\n",
    "* Authorization: free use\n",
    "* Description: Data on several variable of different brands of cereal.\n",
    "\n",
    "A value of -1 for nutrients indicates a missing observation.\n",
    "Number of cases: 77\n",
    "Variable Names:\n",
    "\n",
    "  1. Name: Name of cereal\n",
    "  2. mfr: Manufacturer of cereal where A = American Home Food Products; G =\n",
    "     General Mills; K = Kelloggs; N = Nabisco; P = Post; Q = Quaker Oats; R\n",
    "     = Ralston Purina\n",
    "  3. type: cold or hot\n",
    "  4. calories: calories per serving\n",
    "  5. protein: grams of protein\n",
    "  6. fat: grams of fat\n",
    "  7. sodium: milligrams of sodium\n",
    "  8. fiber: grams of dietary fiber\n",
    "  9. carbo: grams of complex carbohydrates\n",
    "  10. sugars: grams of sugars\n",
    "  11. potass: milligrams of potassium\n",
    "  12. vitamins: vitamins and minerals - 0, 25, or 100, indicating the typical percentage of FDA recommended\n",
    "  13. shelf: display shelf (1, 2, or 3, counting from the floor)\n",
    "  14. weight: weight in ounces of one serving\n",
    "  15. cups: number of cups in one serving\n",
    "  16. rating: a rating of the cereals"
   ]
  },
  {
   "cell_type": "code",
   "execution_count": null,
   "metadata": {},
   "outputs": [],
   "source": [
    "#Execute esta célula para instalar o pandas caso já não tenha instalado\n",
    "# import sys\n",
    "# !{sys.executable} -m pip install --user pandas"
   ]
  },
  {
   "cell_type": "code",
   "execution_count": 1,
   "metadata": {},
   "outputs": [
    {
     "data": {
      "text/html": "<div>\n<style scoped>\n    .dataframe tbody tr th:only-of-type {\n        vertical-align: middle;\n    }\n\n    .dataframe tbody tr th {\n        vertical-align: top;\n    }\n\n    .dataframe thead th {\n        text-align: right;\n    }\n</style>\n<table border=\"1\" class=\"dataframe\">\n  <thead>\n    <tr style=\"text-align: right;\">\n      <th></th>\n      <th>mfr</th>\n      <th>type</th>\n      <th>calories</th>\n      <th>protein</th>\n      <th>fat</th>\n      <th>sodium</th>\n      <th>fiber</th>\n      <th>carbo</th>\n      <th>sugars</th>\n      <th>potass</th>\n      <th>vitamins</th>\n      <th>shelf</th>\n      <th>weight</th>\n      <th>cups</th>\n      <th>rating</th>\n    </tr>\n    <tr>\n      <th>name</th>\n      <th></th>\n      <th></th>\n      <th></th>\n      <th></th>\n      <th></th>\n      <th></th>\n      <th></th>\n      <th></th>\n      <th></th>\n      <th></th>\n      <th></th>\n      <th></th>\n      <th></th>\n      <th></th>\n      <th></th>\n    </tr>\n  </thead>\n  <tbody>\n    <tr>\n      <th>100%_Bran</th>\n      <td>N</td>\n      <td>C</td>\n      <td>70</td>\n      <td>4</td>\n      <td>1</td>\n      <td>130</td>\n      <td>10.0</td>\n      <td>5.0</td>\n      <td>6</td>\n      <td>280</td>\n      <td>25</td>\n      <td>3</td>\n      <td>1.0</td>\n      <td>0.33</td>\n      <td>68.402973</td>\n    </tr>\n    <tr>\n      <th>100%_Natural_Bran</th>\n      <td>Q</td>\n      <td>C</td>\n      <td>120</td>\n      <td>3</td>\n      <td>5</td>\n      <td>15</td>\n      <td>2.0</td>\n      <td>8.0</td>\n      <td>8</td>\n      <td>135</td>\n      <td>0</td>\n      <td>3</td>\n      <td>1.0</td>\n      <td>1.00</td>\n      <td>33.983679</td>\n    </tr>\n    <tr>\n      <th>All-Bran</th>\n      <td>K</td>\n      <td>C</td>\n      <td>70</td>\n      <td>4</td>\n      <td>1</td>\n      <td>260</td>\n      <td>9.0</td>\n      <td>7.0</td>\n      <td>5</td>\n      <td>320</td>\n      <td>25</td>\n      <td>3</td>\n      <td>1.0</td>\n      <td>0.33</td>\n      <td>59.425505</td>\n    </tr>\n    <tr>\n      <th>All-Bran_with_Extra_Fiber</th>\n      <td>K</td>\n      <td>C</td>\n      <td>50</td>\n      <td>4</td>\n      <td>0</td>\n      <td>140</td>\n      <td>14.0</td>\n      <td>8.0</td>\n      <td>0</td>\n      <td>330</td>\n      <td>25</td>\n      <td>3</td>\n      <td>1.0</td>\n      <td>0.50</td>\n      <td>93.704912</td>\n    </tr>\n    <tr>\n      <th>Almond_Delight</th>\n      <td>R</td>\n      <td>C</td>\n      <td>110</td>\n      <td>2</td>\n      <td>2</td>\n      <td>200</td>\n      <td>1.0</td>\n      <td>14.0</td>\n      <td>8</td>\n      <td>-1</td>\n      <td>25</td>\n      <td>3</td>\n      <td>1.0</td>\n      <td>0.75</td>\n      <td>34.384843</td>\n    </tr>\n    <tr>\n      <th>...</th>\n      <td>...</td>\n      <td>...</td>\n      <td>...</td>\n      <td>...</td>\n      <td>...</td>\n      <td>...</td>\n      <td>...</td>\n      <td>...</td>\n      <td>...</td>\n      <td>...</td>\n      <td>...</td>\n      <td>...</td>\n      <td>...</td>\n      <td>...</td>\n      <td>...</td>\n    </tr>\n    <tr>\n      <th>Triples</th>\n      <td>G</td>\n      <td>C</td>\n      <td>110</td>\n      <td>2</td>\n      <td>1</td>\n      <td>250</td>\n      <td>0.0</td>\n      <td>21.0</td>\n      <td>3</td>\n      <td>60</td>\n      <td>25</td>\n      <td>3</td>\n      <td>1.0</td>\n      <td>0.75</td>\n      <td>39.106174</td>\n    </tr>\n    <tr>\n      <th>Trix</th>\n      <td>G</td>\n      <td>C</td>\n      <td>110</td>\n      <td>1</td>\n      <td>1</td>\n      <td>140</td>\n      <td>0.0</td>\n      <td>13.0</td>\n      <td>12</td>\n      <td>25</td>\n      <td>25</td>\n      <td>2</td>\n      <td>1.0</td>\n      <td>1.00</td>\n      <td>27.753301</td>\n    </tr>\n    <tr>\n      <th>Wheat_Chex</th>\n      <td>R</td>\n      <td>C</td>\n      <td>100</td>\n      <td>3</td>\n      <td>1</td>\n      <td>230</td>\n      <td>3.0</td>\n      <td>17.0</td>\n      <td>3</td>\n      <td>115</td>\n      <td>25</td>\n      <td>1</td>\n      <td>1.0</td>\n      <td>0.67</td>\n      <td>49.787445</td>\n    </tr>\n    <tr>\n      <th>Wheaties</th>\n      <td>G</td>\n      <td>C</td>\n      <td>100</td>\n      <td>3</td>\n      <td>1</td>\n      <td>200</td>\n      <td>3.0</td>\n      <td>17.0</td>\n      <td>3</td>\n      <td>110</td>\n      <td>25</td>\n      <td>1</td>\n      <td>1.0</td>\n      <td>1.00</td>\n      <td>51.592193</td>\n    </tr>\n    <tr>\n      <th>Wheaties_Honey_Gold</th>\n      <td>G</td>\n      <td>C</td>\n      <td>110</td>\n      <td>2</td>\n      <td>1</td>\n      <td>200</td>\n      <td>1.0</td>\n      <td>16.0</td>\n      <td>8</td>\n      <td>60</td>\n      <td>25</td>\n      <td>1</td>\n      <td>1.0</td>\n      <td>0.75</td>\n      <td>36.187559</td>\n    </tr>\n  </tbody>\n</table>\n<p>77 rows × 15 columns</p>\n</div>",
      "text/plain": "                          mfr type  calories  protein  fat  sodium  fiber  \\\nname                                                                        \n100%_Bran                   N    C        70        4    1     130   10.0   \n100%_Natural_Bran           Q    C       120        3    5      15    2.0   \nAll-Bran                    K    C        70        4    1     260    9.0   \nAll-Bran_with_Extra_Fiber   K    C        50        4    0     140   14.0   \nAlmond_Delight              R    C       110        2    2     200    1.0   \n...                        ..  ...       ...      ...  ...     ...    ...   \nTriples                     G    C       110        2    1     250    0.0   \nTrix                        G    C       110        1    1     140    0.0   \nWheat_Chex                  R    C       100        3    1     230    3.0   \nWheaties                    G    C       100        3    1     200    3.0   \nWheaties_Honey_Gold         G    C       110        2    1     200    1.0   \n\n                           carbo  sugars  potass  vitamins  shelf  weight  \\\nname                                                                        \n100%_Bran                    5.0       6     280        25      3     1.0   \n100%_Natural_Bran            8.0       8     135         0      3     1.0   \nAll-Bran                     7.0       5     320        25      3     1.0   \nAll-Bran_with_Extra_Fiber    8.0       0     330        25      3     1.0   \nAlmond_Delight              14.0       8      -1        25      3     1.0   \n...                          ...     ...     ...       ...    ...     ...   \nTriples                     21.0       3      60        25      3     1.0   \nTrix                        13.0      12      25        25      2     1.0   \nWheat_Chex                  17.0       3     115        25      1     1.0   \nWheaties                    17.0       3     110        25      1     1.0   \nWheaties_Honey_Gold         16.0       8      60        25      1     1.0   \n\n                           cups     rating  \nname                                        \n100%_Bran                  0.33  68.402973  \n100%_Natural_Bran          1.00  33.983679  \nAll-Bran                   0.33  59.425505  \nAll-Bran_with_Extra_Fiber  0.50  93.704912  \nAlmond_Delight             0.75  34.384843  \n...                         ...        ...  \nTriples                    0.75  39.106174  \nTrix                       1.00  27.753301  \nWheat_Chex                 0.67  49.787445  \nWheaties                   1.00  51.592193  \nWheaties_Honey_Gold        0.75  36.187559  \n\n[77 rows x 15 columns]"
     },
     "execution_count": 1,
     "metadata": {},
     "output_type": "execute_result"
    }
   ],
   "source": [
    "import pandas as pd\n",
    "df = pd.read_table('cereal.txt',sep='\\s+',index_col='name')\n",
    "df"
   ]
  },
  {
   "cell_type": "markdown",
   "metadata": {},
   "source": [
    "A seguir iremos remover as linhas correspondentes aos cereais que possuem dados faltantes, representados pelo valor -1.\n",
    "Também iremos remover as colunas com dados categóricos 'mfr' e 'type', e os dados numéricos, 'shelf', 'weight' e 'cups'."
   ]
  },
  {
   "cell_type": "code",
   "execution_count": 2,
   "metadata": {},
   "outputs": [
    {
     "data": {
      "text/html": "<div>\n<style scoped>\n    .dataframe tbody tr th:only-of-type {\n        vertical-align: middle;\n    }\n\n    .dataframe tbody tr th {\n        vertical-align: top;\n    }\n\n    .dataframe thead th {\n        text-align: right;\n    }\n</style>\n<table border=\"1\" class=\"dataframe\">\n  <thead>\n    <tr style=\"text-align: right;\">\n      <th></th>\n      <th>calories</th>\n      <th>protein</th>\n      <th>fat</th>\n      <th>sodium</th>\n      <th>fiber</th>\n      <th>carbo</th>\n      <th>sugars</th>\n      <th>potass</th>\n      <th>vitamins</th>\n      <th>rating</th>\n    </tr>\n    <tr>\n      <th>name</th>\n      <th></th>\n      <th></th>\n      <th></th>\n      <th></th>\n      <th></th>\n      <th></th>\n      <th></th>\n      <th></th>\n      <th></th>\n      <th></th>\n    </tr>\n  </thead>\n  <tbody>\n    <tr>\n      <th>100%_Bran</th>\n      <td>70</td>\n      <td>4</td>\n      <td>1</td>\n      <td>130</td>\n      <td>10.0</td>\n      <td>5.0</td>\n      <td>6.0</td>\n      <td>280.0</td>\n      <td>25</td>\n      <td>68.402973</td>\n    </tr>\n    <tr>\n      <th>100%_Natural_Bran</th>\n      <td>120</td>\n      <td>3</td>\n      <td>5</td>\n      <td>15</td>\n      <td>2.0</td>\n      <td>8.0</td>\n      <td>8.0</td>\n      <td>135.0</td>\n      <td>0</td>\n      <td>33.983679</td>\n    </tr>\n    <tr>\n      <th>All-Bran</th>\n      <td>70</td>\n      <td>4</td>\n      <td>1</td>\n      <td>260</td>\n      <td>9.0</td>\n      <td>7.0</td>\n      <td>5.0</td>\n      <td>320.0</td>\n      <td>25</td>\n      <td>59.425505</td>\n    </tr>\n    <tr>\n      <th>All-Bran_with_Extra_Fiber</th>\n      <td>50</td>\n      <td>4</td>\n      <td>0</td>\n      <td>140</td>\n      <td>14.0</td>\n      <td>8.0</td>\n      <td>0.0</td>\n      <td>330.0</td>\n      <td>25</td>\n      <td>93.704912</td>\n    </tr>\n    <tr>\n      <th>Apple_Cinnamon_Cheerios</th>\n      <td>110</td>\n      <td>2</td>\n      <td>2</td>\n      <td>180</td>\n      <td>1.5</td>\n      <td>10.5</td>\n      <td>10.0</td>\n      <td>70.0</td>\n      <td>25</td>\n      <td>29.509541</td>\n    </tr>\n    <tr>\n      <th>...</th>\n      <td>...</td>\n      <td>...</td>\n      <td>...</td>\n      <td>...</td>\n      <td>...</td>\n      <td>...</td>\n      <td>...</td>\n      <td>...</td>\n      <td>...</td>\n      <td>...</td>\n    </tr>\n    <tr>\n      <th>Triples</th>\n      <td>110</td>\n      <td>2</td>\n      <td>1</td>\n      <td>250</td>\n      <td>0.0</td>\n      <td>21.0</td>\n      <td>3.0</td>\n      <td>60.0</td>\n      <td>25</td>\n      <td>39.106174</td>\n    </tr>\n    <tr>\n      <th>Trix</th>\n      <td>110</td>\n      <td>1</td>\n      <td>1</td>\n      <td>140</td>\n      <td>0.0</td>\n      <td>13.0</td>\n      <td>12.0</td>\n      <td>25.0</td>\n      <td>25</td>\n      <td>27.753301</td>\n    </tr>\n    <tr>\n      <th>Wheat_Chex</th>\n      <td>100</td>\n      <td>3</td>\n      <td>1</td>\n      <td>230</td>\n      <td>3.0</td>\n      <td>17.0</td>\n      <td>3.0</td>\n      <td>115.0</td>\n      <td>25</td>\n      <td>49.787445</td>\n    </tr>\n    <tr>\n      <th>Wheaties</th>\n      <td>100</td>\n      <td>3</td>\n      <td>1</td>\n      <td>200</td>\n      <td>3.0</td>\n      <td>17.0</td>\n      <td>3.0</td>\n      <td>110.0</td>\n      <td>25</td>\n      <td>51.592193</td>\n    </tr>\n    <tr>\n      <th>Wheaties_Honey_Gold</th>\n      <td>110</td>\n      <td>2</td>\n      <td>1</td>\n      <td>200</td>\n      <td>1.0</td>\n      <td>16.0</td>\n      <td>8.0</td>\n      <td>60.0</td>\n      <td>25</td>\n      <td>36.187559</td>\n    </tr>\n  </tbody>\n</table>\n<p>74 rows × 10 columns</p>\n</div>",
      "text/plain": "                           calories  protein  fat  sodium  fiber  carbo  \\\nname                                                                      \n100%_Bran                        70        4    1     130   10.0    5.0   \n100%_Natural_Bran               120        3    5      15    2.0    8.0   \nAll-Bran                         70        4    1     260    9.0    7.0   \nAll-Bran_with_Extra_Fiber        50        4    0     140   14.0    8.0   \nApple_Cinnamon_Cheerios         110        2    2     180    1.5   10.5   \n...                             ...      ...  ...     ...    ...    ...   \nTriples                         110        2    1     250    0.0   21.0   \nTrix                            110        1    1     140    0.0   13.0   \nWheat_Chex                      100        3    1     230    3.0   17.0   \nWheaties                        100        3    1     200    3.0   17.0   \nWheaties_Honey_Gold             110        2    1     200    1.0   16.0   \n\n                           sugars  potass  vitamins     rating  \nname                                                            \n100%_Bran                     6.0   280.0        25  68.402973  \n100%_Natural_Bran             8.0   135.0         0  33.983679  \nAll-Bran                      5.0   320.0        25  59.425505  \nAll-Bran_with_Extra_Fiber     0.0   330.0        25  93.704912  \nApple_Cinnamon_Cheerios      10.0    70.0        25  29.509541  \n...                           ...     ...       ...        ...  \nTriples                       3.0    60.0        25  39.106174  \nTrix                         12.0    25.0        25  27.753301  \nWheat_Chex                    3.0   115.0        25  49.787445  \nWheaties                      3.0   110.0        25  51.592193  \nWheaties_Honey_Gold           8.0    60.0        25  36.187559  \n\n[74 rows x 10 columns]"
     },
     "execution_count": 2,
     "metadata": {},
     "output_type": "execute_result"
    }
   ],
   "source": [
    "import numpy as np\n",
    "new_df = df.replace(-1,np.nan)\n",
    "new_df = new_df.dropna()\n",
    "new_df = new_df.drop(['mfr','type','shelf','weight','cups'],axis=1)\n",
    "new_df"
   ]
  },
  {
   "cell_type": "markdown",
   "metadata": {},
   "source": [
    "Finalmente, iremos converter os dados nutricionais numéricos de ```new_df``` para uma matriz ```dados``` e as avaliações (ratings) para um vetor $y$. Os nomes dos cereais serão salvos em uma lista ```cereral_names``` e os nomes das colunas em uma lista ```col_names```."
   ]
  },
  {
   "cell_type": "code",
   "execution_count": 3,
   "metadata": {},
   "outputs": [
    {
     "name": "stdout",
     "output_type": "stream",
     "text": [
      "Cereais: ['100%_Bran', '100%_Natural_Bran', 'All-Bran', 'All-Bran_with_Extra_Fiber', 'Apple_Cinnamon_Cheerios', 'Apple_Jacks', 'Basic_4', 'Bran_Chex', 'Bran_Flakes', \"Cap'n'Crunch\", 'Cheerios', 'Cinnamon_Toast_Crunch', 'Clusters', 'Cocoa_Puffs', 'Corn_Chex', 'Corn_Flakes', 'Corn_Pops', 'Count_Chocula', \"Cracklin'_Oat_Bran\", 'Crispix', 'Crispy_Wheat_&_Raisins', 'Double_Chex', 'Froot_Loops', 'Frosted_Flakes', 'Frosted_Mini-Wheats', 'Fruit_&_Fibre_Dates,_Walnuts,_and_Oats', 'Fruitful_Bran', 'Fruity_Pebbles', 'Golden_Crisp', 'Golden_Grahams', 'Grape_Nuts_Flakes', 'Grape-Nuts', 'Great_Grains_Pecan', 'Honey_Graham_Ohs', 'Honey_Nut_Cheerios', 'Honey-comb', 'Just_Right_Crunchy__Nuggets', 'Just_Right_Fruit_&_Nut', 'Kix', 'Life', 'Lucky_Charms', 'Maypo', 'Muesli_Raisins,_Dates,_&_Almonds', 'Muesli_Raisins,_Peaches,_&_Pecans', 'Mueslix_Crispy_Blend', 'Multi-Grain_Cheerios', 'Nut&Honey_Crunch', 'Nutri-Grain_Almond-Raisin', 'Nutri-grain_Wheat', 'Oatmeal_Raisin_Crisp', 'Post_Nat._Raisin_Bran', 'Product_19', 'Puffed_Rice', 'Puffed_Wheat', 'Quaker_Oat_Squares', 'Raisin_Bran', 'Raisin_Nut_Bran', 'Raisin_Squares', 'Rice_Chex', 'Rice_Krispies', 'Shredded_Wheat', \"Shredded_Wheat_'n'Bran\", 'Shredded_Wheat_spoon_size', 'Smacks', 'Special_K', 'Strawberry_Fruit_Wheats', 'Total_Corn_Flakes', 'Total_Raisin_Bran', 'Total_Whole_Grain', 'Triples', 'Trix', 'Wheat_Chex', 'Wheaties', 'Wheaties_Honey_Gold']\n",
      "Colunas: ['calories', 'protein', 'fat', 'sodium', 'fiber', 'carbo', 'sugars', 'potass', 'vitamins', 'rating']\n",
      "As dimensões de dados são: (74, 9)\n",
      "As dimensões de y são: (74,)\n"
     ]
    }
   ],
   "source": [
    "cereral_names = list(new_df.index)\n",
    "print('Cereais:',cereral_names)\n",
    "col_names = list(new_df.columns)\n",
    "print('Colunas:',col_names)\n",
    "\n",
    "dados = new_df.drop('rating', axis=1).values\n",
    "print('As dimensões de dados são:',dados.shape)\n",
    "y = new_df['rating'].values\n",
    "print('As dimensões de y são:',y.shape)"
   ]
  },
  {
   "cell_type": "markdown",
   "metadata": {},
   "source": [
    "## Estimando os parâmetros da regressão linear simples\n",
    "\n",
    "Qual será a relação entre a avaliação $y$ e o número de calorias $x$ de um cereal? Para responder esta pergunta, considere uma regressão linear simples\n",
    "$$\n",
    "y = \\beta_0 + \\beta_1 x.\n",
    "$$\n",
    "Para encontrar os coeficientes $\\beta_0$ e $\\beta_1$ utilizando o método dos mínimos quadrados, basta resolver o sistema\n",
    "$$\n",
    "\\begin{bmatrix}\n",
    "n & \\sum_i x^{(i)} \\\\\n",
    "\\sum_i x^{(i)} & \\sum_i (x^{(i)})^2\n",
    "\\end{bmatrix}\n",
    "\\begin{bmatrix}\n",
    "\\beta_0 \\\\ \\beta_1\n",
    "\\end{bmatrix}\n",
    "=\n",
    "\\begin{bmatrix}\n",
    "\\sum_i y^{(i)} \\\\ \\sum_i x^{(i)} y^{(i)}\n",
    "\\end{bmatrix}\n",
    "$$\n",
    "\n",
    "Portanto, para encontrar $\\beta_0$ e $\\beta_1$, você precisa\n",
    "1. Calcular a matriz\n",
    "$$\n",
    "A = \\begin{bmatrix}\n",
    "n & \\sum_i x^{(i)} \\\\\n",
    "\\sum_i x^{(i)} & \\sum_i (x^{(i)})^2\n",
    "\\end{bmatrix}\n",
    "$$\n",
    "e o vetor\n",
    "$$\n",
    "c = \\begin{bmatrix}\n",
    "\\sum_i y^{(i)} \\\\ \\sum_i x^{(i)} y^{(i)}\n",
    "\\end{bmatrix}\n",
    "$$\n",
    "2. Resolver $A \\beta = c$, onde $\\beta$ é o vetor de coeficientes."
   ]
  },
  {
   "cell_type": "markdown",
   "metadata": {},
   "source": [
    "**Exercício 1 - Regressão simples:** Encontre os coeficientes $\\beta_0$ e $\\beta_1$ quando a variável independente é ```calories```. Dica: A variavel X abaixo já armazena os valores deste atributo."
   ]
  },
  {
   "cell_type": "code",
   "execution_count": 4,
   "metadata": {},
   "outputs": [
    {
     "data": {
      "text/plain": "[<matplotlib.lines.Line2D at 0x7ff3d5677e80>]"
     },
     "execution_count": 4,
     "metadata": {},
     "output_type": "execute_result"
    },
    {
     "data": {
      "image/png": "[encoded data removed]",
      "text/plain": "<Figure size 432x288 with 1 Axes>"
     },
     "metadata": {
      "needs_background": "light"
     },
     "output_type": "display_data"
    }
   ],
   "source": [
    "X = new_df['calories'].values\n",
    "y = new_df['rating'].values\n",
    "## calculando a média de X e Y\n",
    "mu_x = X.mean()\n",
    "mu_y = y.mean()\n",
    "## variavel \"temporaria\" útil\n",
    "sum_x_t = X - mu_x\n",
    "## usando as expressões analíticas para calcular beta 0 e beta 1\n",
    "b1 = np.sum( sum_x_t * (y - mu_y) ) / np.sum(sum_x_t ** 2)\n",
    "b0 = mu_y - ( b1 * mu_x )\n",
    "b0, b1\n",
    "## calculando as predições de acordo com os coeficientes encontrados\n",
    "y_hat_ex1 = b0 + (b1 * X)\n",
    "import matplotlib.pyplot as plt\n",
    "%matplotlib inline\n",
    "plt.scatter( X, y, alpha=0.7 )\n",
    "plt.plot(X, b0 + (b1 * X), color='r')"
   ]
  },
  {
   "cell_type": "markdown",
   "metadata": {},
   "source": [
    "**Exercício 2 - Regressão múltipla:** Considerando a nova tabela de dados X abaixo com os atributos 'calories', 'protein', 'fat', 'sugars' e 'vitamins' selecionados, estime os parâmetros da regressão múltipla para obter a variavel resposta ```rating``` "
   ]
  },
  {
   "cell_type": "code",
   "execution_count": 5,
   "metadata": {},
   "outputs": [
    {
     "data": {
      "text/plain": "Text(0, 0.5, 'preds')"
     },
     "execution_count": 5,
     "metadata": {},
     "output_type": "execute_result"
    },
    {
     "data": {
      "image/png": "[encoded data removed]",
      "text/plain": "<Figure size 432x288 with 1 Axes>"
     },
     "metadata": {
      "needs_background": "light"
     },
     "output_type": "display_data"
    }
   ],
   "source": [
    "X = new_df.loc[:,['calories', 'protein', 'fat', 'sugars', 'vitamins']].values\n",
    "## adicionando coluna de 1's para os bias\n",
    "X = np.concatenate([np.ones(shape=[X.shape[0], 1]), X], axis=1)\n",
    "## resolvendo equação de forma matricial\n",
    "betas = np.linalg.inv(X.T @ X) @ X.T @ y.reshape(-1, 1)\n",
    "betas\n",
    "y_hat_ex2 = X @ betas\n",
    "y_hat_ex2 = y_hat_ex2.reshape(-1)\n",
    "import matplotlib.pyplot as plt\n",
    "%matplotlib inline\n",
    "plt.scatter(y, y_hat_ex2.reshape(-1), alpha=0.3)\n",
    "plt.plot(y, y, 'k-')\n",
    "plt.xlabel('labels')\n",
    "plt.ylabel('preds')"
   ]
  },
  {
   "cell_type": "markdown",
   "metadata": {},
   "source": [
    "**Exercício 3:** Nossos modelos de regressão linear são bons preditores da nota de avaliação do cereal? Qual o melhor modelo? Calcule os coeficientes de determinação e faça uma análise dos valores obtidos para responder a estas perguntas."
   ]
  },
  {
   "cell_type": "code",
   "execution_count": 6,
   "metadata": {},
   "outputs": [
    {
     "data": {
      "text/plain": "(0.4813371585498132, 0.8337963187084576)"
     },
     "execution_count": 6,
     "metadata": {},
     "output_type": "execute_result"
    }
   ],
   "source": [
    "# insira seu código aqui\n",
    "def calc_coef_det(y, y_hat):\n",
    "  mu_y = np.mean(y)\n",
    "  return 1 - np.sum( (y - y_hat) ** 2 ) / np.sum( (y - mu_y) ** 2 )\n",
    "r2_ex1 = calc_coef_det(y, y_hat_ex1)\n",
    "r2_ex2 = calc_coef_det(y, y_hat_ex2)\n",
    "r2_ex1, r2_ex2"
   ]
  }
 ],
 "metadata": {
  "kernelspec": {
   "display_name": "Python 3",
   "language": "python",
   "name": "python3"
  },
  "language_info": {
   "codemirror_mode": {
    "name": "ipython",
    "version": 3
   },
   "file_extension": ".py",
   "mimetype": "text/x-python",
   "name": "python",
   "nbconvert_exporter": "python",
   "pygments_lexer": "ipython3",
   "version": "3.8.10"
  }
 },
 "nbformat": 4,
 "nbformat_minor": 2
}