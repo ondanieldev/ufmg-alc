{
 "cells": [
  {
   "cell_type": "code",
   "execution_count": 7,
   "metadata": {},
   "outputs": [],
   "source": [
    "import numpy as np\n",
    "import matplotlib.pyplot as plt"
   ]
  },
  {
   "cell_type": "code",
   "execution_count": 8,
   "metadata": {},
   "outputs": [
    {
     "name": "stdout",
     "output_type": "stream",
     "text": [
      "[0. 0. 0.]\n"
     ]
    }
   ],
   "source": [
    "x_iter = np.array([0.0, 0.0, 0.0])\n",
    "print(x_iter)"
   ]
  },
  {
   "cell_type": "code",
   "execution_count": 9,
   "metadata": {},
   "outputs": [
    {
     "name": "stdout",
     "output_type": "stream",
     "text": [
      "0 [2.25       0.66666667 2.6       ]\n",
      "1 [1.26666667 2.16666667 1.56666667]\n",
      "2 [0.775      1.51111111 1.66      ]\n",
      "3 [1.07944444 1.18333333 1.98777778]\n",
      "4 [1.16138889 1.3862963  1.93155556]\n",
      "5 [1.07396296 1.44092593 1.85818519]\n",
      "6 [1.06499074 1.38264198 1.88222963]\n",
      "7 [1.0881216  1.37666049 1.89747531]\n",
      "8 [1.08730093 1.39208107 1.88941926]\n",
      "9 [1.08160465 1.39153395 1.88666342]\n",
      "10 [1.08256717 1.38773643 1.88905135]\n",
      "11 [1.08386895 1.38837811 1.88942584]\n",
      "12 [1.08345448 1.38924596 1.8887768 ]\n",
      "13 [1.08318282 1.38896965 1.88876901]\n",
      "14 [1.08332292 1.38878855 1.88893294]\n",
      "15 [1.08337249 1.38888195 1.88891312]\n",
      "16 [1.08333075 1.38891499 1.88887461]\n",
      "17 [1.08332385 1.38888716 1.8888847 ]\n",
      "18 [1.08333524 1.38888257 1.88889303]\n",
      "19 [1.08333546 1.38889016 1.88888939]\n"
     ]
    },
    {
     "data": {
      "image/png": "[encoded data removed]",
      "text/plain": [
       "<Figure size 432x288 with 1 Axes>"
      ]
     },
     "metadata": {
      "needs_background": "light"
     },
     "output_type": "display_data"
    }
   ],
   "source": [
    "from IPython.display import clear_output\n",
    "%matplotlib inline\n",
    "clear_output(wait=True)\n",
    "\n",
    "for i in range(20):\n",
    "    x_0 = x_iter[0]\n",
    "    x_1 = x_iter[1]\n",
    "    x_2 = x_iter[2]\n",
    "    \n",
    "    x_iter[0] = 1/4 * (9 - 2 * x_1 - 1 * x_2)\n",
    "    x_iter[1] = 1/3 * (2 + 2 * x_0 - 0 * x_2)\n",
    "    x_iter[2] = 1/5 * (13 - 2 * x_0 - 1 * x_1)\n",
    "    \n",
    "    plt.plot(i, x_iter[0], 'ro')\n",
    "    plt.plot(i, x_iter[1], 'bs')\n",
    "    plt.plot(i, x_iter[2], 'g*')\n",
    "    \n",
    "    print(i, x_iter)\n",
    "    \n",
    "plt.show()"
   ]
  },
  {
   "cell_type": "code",
   "execution_count": 10,
   "metadata": {},
   "outputs": [
    {
     "name": "stdout",
     "output_type": "stream",
     "text": [
      "[1.08333546 1.38889016 1.88888939]\n"
     ]
    }
   ],
   "source": [
    "print(x_iter)"
   ]
  },
  {
   "cell_type": "code",
   "execution_count": 11,
   "metadata": {},
   "outputs": [
    {
     "name": "stdout",
     "output_type": "stream",
     "text": [
      "[1.08333333 1.38888889 1.88888889]\n"
     ]
    }
   ],
   "source": [
    "A = np.array([[4,2,1],[-2,3,0],[2,1,5]])\n",
    "b = np.array([9,2,13])\n",
    "\n",
    "x_star = np.linalg.solve(A,b)\n",
    "print(x_star)"
   ]
  },
  {
   "cell_type": "code",
   "execution_count": 12,
   "metadata": {},
   "outputs": [
    {
     "name": "stdout",
     "output_type": "stream",
     "text": [
      "2.528539664459671e-06\n"
     ]
    }
   ],
   "source": [
    "erro = np.linalg.norm(x_iter-x_star)\n",
    "print(erro)"
   ]
  },
  {
   "cell_type": "code",
   "execution_count": null,
   "metadata": {},
   "outputs": [],
   "source": []
  }
 ],
 "metadata": {
  "kernelspec": {
   "display_name": "Python 3",
   "language": "python",
   "name": "python3"
  },
  "language_info": {
   "codemirror_mode": {
    "name": "ipython",
    "version": 3
   },
   "file_extension": ".py",
   "mimetype": "text/x-python",
   "name": "python",
   "nbconvert_exporter": "python",
   "pygments_lexer": "ipython3",
   "version": "3.8.3"
  }
 },
 "nbformat": 4,
 "nbformat_minor": 4
}
