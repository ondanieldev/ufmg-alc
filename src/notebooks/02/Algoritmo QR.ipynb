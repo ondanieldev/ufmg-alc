{
 "cells": [
  {
   "cell_type": "code",
   "execution_count": 3,
   "metadata": {},
   "outputs": [],
   "source": [
    "import numpy as np\n",
    "np.set_printoptions(suppress=True)"
   ]
  },
  {
   "cell_type": "code",
   "execution_count": 4,
   "metadata": {},
   "outputs": [
    {
     "name": "stdout",
     "output_type": "stream",
     "text": [
      "[[  1   1   1   1   1]\n",
      " [ 16   8   4   2   1]\n",
      " [ 81  27   9   3   1]\n",
      " [256  64  16   4   1]\n",
      " [625 125  25   5   1]]\n"
     ]
    }
   ],
   "source": [
    "A = np.vander(np.array([1,2,3,4,5]))\n",
    "print(A)"
   ]
  },
  {
   "cell_type": "code",
   "execution_count": 5,
   "metadata": {},
   "outputs": [
    {
     "name": "stdout",
     "output_type": "stream",
     "text": [
      "[[  11.70370362   95.94985219 -391.83817342  548.76240376  141.99011309]\n",
      " [   3.74545605   11.42886867  -12.06749667   -4.41288385   -6.03073889]\n",
      " [  -1.60429851   -1.31349271   -0.19198933    0.15806735   -0.47209789]\n",
      " [   0.64226745    0.00069666    0.06699352    0.05543297   -0.06265891]\n",
      " [   0.0579779    -0.02211493   -0.00958549   -0.00507957    0.00398406]]\n"
     ]
    }
   ],
   "source": [
    "Q1, R1 = np.linalg.qr(A)\n",
    "B1 = Q1.T @ A @ Q1\n",
    "print(B1)"
   ]
  },
  {
   "cell_type": "code",
   "execution_count": 6,
   "metadata": {},
   "outputs": [
    {
     "name": "stdout",
     "output_type": "stream",
     "text": [
      "[[ 115.68622618  370.62194891 -452.21166965  270.56856131  -61.22404307]\n",
      " [ -31.7512938  -117.64692367  157.63938398 -102.58204324   25.34084046]\n",
      " [  -3.74105044  -15.14265967   26.48924234  -21.88724748    6.74361227]\n",
      " [  -0.09133312   -0.39278026    0.8289485    -1.569848      0.87873481]\n",
      " [  -0.00019546   -0.00088038    0.00212591   -0.00624528    0.04130314]]\n"
     ]
    }
   ],
   "source": [
    "Q2, R2 = np.linalg.qr(B1)\n",
    "B2 = Q2.T @ B1 @ Q2\n",
    "print(B2)"
   ]
  },
  {
   "cell_type": "code",
   "execution_count": 10,
   "metadata": {},
   "outputs": [],
   "source": [
    "for i in range(10):\n",
    "    Q, R = np.linalg.qr(B2)\n",
    "    B2 = Q.T @ B2 @ Q"
   ]
  },
  {
   "cell_type": "code",
   "execution_count": 11,
   "metadata": {},
   "outputs": [
    {
     "name": "stdout",
     "output_type": "stream",
     "text": [
      "[[  45.96412364  333.07086454 -514.75546618  307.71949702  -66.79344218]\n",
      " [  -0.00082962  -28.94739072   62.92350346  -47.45384027   12.68847997]\n",
      " [  -0.           -0.            6.79538792   -9.37453655    3.58763723]\n",
      " [  -0.           -0.            0.           -0.84961948    0.64728609]\n",
      " [  -0.           -0.            0.           -0.            0.03749864]]\n"
     ]
    }
   ],
   "source": [
    "print(B2)"
   ]
  },
  {
   "cell_type": "code",
   "execution_count": 9,
   "metadata": {},
   "outputs": [
    {
     "data": {
      "text/plain": [
       "array([ 45.96043479, -28.94370187,   6.79538792,  -0.84961948,\n",
       "         0.03749864])"
      ]
     },
     "execution_count": 9,
     "metadata": {},
     "output_type": "execute_result"
    }
   ],
   "source": [
    "np.linalg.eigvals(B2)"
   ]
  },
  {
   "cell_type": "code",
   "execution_count": 12,
   "metadata": {},
   "outputs": [],
   "source": [
    "A0 = A\n",
    "for i in range(20):\n",
    "    Q,R = np.linalg.qr(A0)\n",
    "    A0 = R @ Q"
   ]
  },
  {
   "cell_type": "code",
   "execution_count": 13,
   "metadata": {},
   "outputs": [
    {
     "name": "stdout",
     "output_type": "stream",
     "text": [
      "[[  45.96973691  333.06960194 -514.75440564  307.71869722  -66.79322833]\n",
      " [  -0.00209222  -28.953004     62.93217873  -47.45902632   12.68960565]\n",
      " [  -0.           -0.            6.79538792   -9.37453655    3.58763723]\n",
      " [  -0.           -0.            0.           -0.84961948    0.64728609]\n",
      " [  -0.           -0.            0.           -0.            0.03749864]]\n"
     ]
    }
   ],
   "source": [
    "print(A0)"
   ]
  },
  {
   "cell_type": "code",
   "execution_count": 14,
   "metadata": {},
   "outputs": [
    {
     "data": {
      "text/plain": [
       "array([ 45.96043479, -28.94370187,   6.79538792,  -0.84961948,\n",
       "         0.03749864])"
      ]
     },
     "execution_count": 14,
     "metadata": {},
     "output_type": "execute_result"
    }
   ],
   "source": [
    "np.linalg.eigvals(A)"
   ]
  },
  {
   "cell_type": "code",
   "execution_count": null,
   "metadata": {},
   "outputs": [],
   "source": []
  }
 ],
 "metadata": {
  "kernelspec": {
   "display_name": "Python 3",
   "language": "python",
   "name": "python3"
  },
  "language_info": {
   "codemirror_mode": {
    "name": "ipython",
    "version": 3
   },
   "file_extension": ".py",
   "mimetype": "text/x-python",
   "name": "python",
   "nbconvert_exporter": "python",
   "pygments_lexer": "ipython3",
   "version": "3.8.3"
  }
 },
 "nbformat": 4,
 "nbformat_minor": 4
}
