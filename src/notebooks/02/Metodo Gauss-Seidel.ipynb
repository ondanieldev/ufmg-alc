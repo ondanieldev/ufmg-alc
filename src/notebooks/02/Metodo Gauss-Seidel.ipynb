{
 "cells": [
  {
   "cell_type": "code",
   "execution_count": 5,
   "metadata": {},
   "outputs": [],
   "source": [
    "import numpy as np\n",
    "import matplotlib.pyplot as plt"
   ]
  },
  {
   "cell_type": "code",
   "execution_count": 19,
   "metadata": {},
   "outputs": [
    {
     "name": "stdout",
     "output_type": "stream",
     "text": [
      "[0. 0. 0.]\n"
     ]
    }
   ],
   "source": [
    "x_iter = np.array([0.0, 0.0, 0.0])\n",
    "print(x_iter)"
   ]
  },
  {
   "cell_type": "code",
   "execution_count": 20,
   "metadata": {},
   "outputs": [
    {
     "name": "stdout",
     "output_type": "stream",
     "text": [
      "0 [2.25       2.16666667 1.26666667]\n",
      "1 [0.85       1.23333333 2.01333333]\n",
      "2 [1.13  1.42  1.864]\n",
      "3 [1.074      1.38266667 1.89386667]\n",
      "4 [1.0852     1.39013333 1.88789333]\n",
      "5 [1.08296  1.38864  1.889088]\n",
      "6 [1.083408   1.38893867 1.88884907]\n",
      "7 [1.0833184  1.38887893 1.88889685]\n",
      "8 [1.08333632 1.38889088 1.8888873 ]\n",
      "9 [1.08333274 1.38888849 1.88888921]\n"
     ]
    },
    {
     "data": {
      "image/png": "[encoded data removed]",
      "text/plain": [
       "<Figure size 432x288 with 1 Axes>"
      ]
     },
     "metadata": {
      "needs_background": "light"
     },
     "output_type": "display_data"
    }
   ],
   "source": [
    "from IPython.display import clear_output\n",
    "%matplotlib inline\n",
    "clear_output(wait=True)\n",
    "\n",
    "for i in range(100):\n",
    "    x_prev = x_iter.copy()\n",
    "    \n",
    "    x_iter[0] = 1/4 * (9 - 2 * x_iter[1] - 1 * x_iter[2])\n",
    "    x_iter[1] = 1/3 * (2 + 2 * x_iter[0] - 0 * x_iter[2])\n",
    "    x_iter[2] = 1/5 * (13 - 2 * x_iter[0] - 1 * x_iter[1])\n",
    "    \n",
    "    plt.plot(i, x_iter[0], 'ro')\n",
    "    plt.plot(i, x_iter[1], 'bs')\n",
    "    plt.plot(i, x_iter[2], 'g*')\n",
    "    \n",
    "    diff = np.abs(x_prev-x_iter)\n",
    "    if (np.max(diff) < 0.000001):\n",
    "        break\n",
    "    \n",
    "    print(i, x_iter)\n",
    "    \n",
    "plt.show()"
   ]
  },
  {
   "cell_type": "code",
   "execution_count": 4,
   "metadata": {},
   "outputs": [
    {
     "name": "stdout",
     "output_type": "stream",
     "text": [
      "[1.08333333 1.38888889 1.88888889]\n"
     ]
    }
   ],
   "source": [
    "print(x_iter)"
   ]
  },
  {
   "cell_type": "code",
   "execution_count": 48,
   "metadata": {},
   "outputs": [
    {
     "name": "stdout",
     "output_type": "stream",
     "text": [
      "[1.08333333 1.38888889 1.88888889]\n"
     ]
    }
   ],
   "source": [
    "A = np.array([[4,2,1],[-2,3,0],[2,1,5]])\n",
    "b = np.array([9,2,13])\n",
    "\n",
    "x_star = np.linalg.solve(A,b)\n",
    "print(x_star)"
   ]
  },
  {
   "cell_type": "code",
   "execution_count": 49,
   "metadata": {},
   "outputs": [
    {
     "name": "stdout",
     "output_type": "stream",
     "text": [
      "0.4129463540921806\n"
     ]
    }
   ],
   "source": [
    "erro = np.linalg.norm(x_iter-x_star)\n",
    "print(erro)"
   ]
  },
  {
   "cell_type": "code",
   "execution_count": null,
   "metadata": {},
   "outputs": [],
   "source": []
  }
 ],
 "metadata": {
  "kernelspec": {
   "display_name": "Python 3",
   "language": "python",
   "name": "python3"
  },
  "language_info": {
   "codemirror_mode": {
    "name": "ipython",
    "version": 3
   },
   "file_extension": ".py",
   "mimetype": "text/x-python",
   "name": "python",
   "nbconvert_exporter": "python",
   "pygments_lexer": "ipython3",
   "version": "3.8.3"
  }
 },
 "nbformat": 4,
 "nbformat_minor": 4
}
